{
 "cells": [
  {
   "cell_type": "code",
   "execution_count": 1,
   "id": "99d033f1-a911-4c53-b8e3-33099a61e748",
   "metadata": {},
   "outputs": [],
   "source": [
    "import pandas as pd"
   ]
  },
  {
   "cell_type": "markdown",
   "id": "fd4b3396-c022-47d3-9f4c-20e26ba4f1e4",
   "metadata": {},
   "source": [
    "reading the csv data so as to load the data encoding:Using encoding=\"ISO-8859-1\" helps read files with special characters. low_memory=False:forces Pandas to read the whole file at once, ensuring proper data type detection. df.head:displays the first five rows of a DataFrame by default."
   ]
  },
  {
   "cell_type": "code",
   "execution_count": 2,
   "id": "d4ff7044-65ea-4d63-a0e8-cdee3920cdaa",
   "metadata": {
    "scrolled": true
   },
   "outputs": [
    {
     "data": {
      "text/html": [
       "<div>\n",
       "<style scoped>\n",
       "    .dataframe tbody tr th:only-of-type {\n",
       "        vertical-align: middle;\n",
       "    }\n",
       "\n",
       "    .dataframe tbody tr th {\n",
       "        vertical-align: top;\n",
       "    }\n",
       "\n",
       "    .dataframe thead th {\n",
       "        text-align: right;\n",
       "    }\n",
       "</style>\n",
       "<table border=\"1\" class=\"dataframe\">\n",
       "  <thead>\n",
       "    <tr style=\"text-align: right;\">\n",
       "      <th></th>\n",
       "      <th>Event.Id</th>\n",
       "      <th>Investigation.Type</th>\n",
       "      <th>Accident.Number</th>\n",
       "      <th>Event.Date</th>\n",
       "      <th>Location</th>\n",
       "      <th>Country</th>\n",
       "      <th>Latitude</th>\n",
       "      <th>Longitude</th>\n",
       "      <th>Airport.Code</th>\n",
       "      <th>Airport.Name</th>\n",
       "      <th>...</th>\n",
       "      <th>Purpose.of.flight</th>\n",
       "      <th>Air.carrier</th>\n",
       "      <th>Total.Fatal.Injuries</th>\n",
       "      <th>Total.Serious.Injuries</th>\n",
       "      <th>Total.Minor.Injuries</th>\n",
       "      <th>Total.Uninjured</th>\n",
       "      <th>Weather.Condition</th>\n",
       "      <th>Broad.phase.of.flight</th>\n",
       "      <th>Report.Status</th>\n",
       "      <th>Publication.Date</th>\n",
       "    </tr>\n",
       "  </thead>\n",
       "  <tbody>\n",
       "    <tr>\n",
       "      <th>0</th>\n",
       "      <td>20001218X45444</td>\n",
       "      <td>Accident</td>\n",
       "      <td>SEA87LA080</td>\n",
       "      <td>1948-10-24</td>\n",
       "      <td>MOOSE CREEK, ID</td>\n",
       "      <td>United States</td>\n",
       "      <td>NaN</td>\n",
       "      <td>NaN</td>\n",
       "      <td>NaN</td>\n",
       "      <td>NaN</td>\n",
       "      <td>...</td>\n",
       "      <td>Personal</td>\n",
       "      <td>NaN</td>\n",
       "      <td>2.0</td>\n",
       "      <td>0.0</td>\n",
       "      <td>0.0</td>\n",
       "      <td>0.0</td>\n",
       "      <td>UNK</td>\n",
       "      <td>Cruise</td>\n",
       "      <td>Probable Cause</td>\n",
       "      <td>NaN</td>\n",
       "    </tr>\n",
       "    <tr>\n",
       "      <th>1</th>\n",
       "      <td>20001218X45447</td>\n",
       "      <td>Accident</td>\n",
       "      <td>LAX94LA336</td>\n",
       "      <td>1962-07-19</td>\n",
       "      <td>BRIDGEPORT, CA</td>\n",
       "      <td>United States</td>\n",
       "      <td>NaN</td>\n",
       "      <td>NaN</td>\n",
       "      <td>NaN</td>\n",
       "      <td>NaN</td>\n",
       "      <td>...</td>\n",
       "      <td>Personal</td>\n",
       "      <td>NaN</td>\n",
       "      <td>4.0</td>\n",
       "      <td>0.0</td>\n",
       "      <td>0.0</td>\n",
       "      <td>0.0</td>\n",
       "      <td>UNK</td>\n",
       "      <td>Unknown</td>\n",
       "      <td>Probable Cause</td>\n",
       "      <td>19-09-1996</td>\n",
       "    </tr>\n",
       "    <tr>\n",
       "      <th>2</th>\n",
       "      <td>20061025X01555</td>\n",
       "      <td>Accident</td>\n",
       "      <td>NYC07LA005</td>\n",
       "      <td>1974-08-30</td>\n",
       "      <td>Saltville, VA</td>\n",
       "      <td>United States</td>\n",
       "      <td>36.922223</td>\n",
       "      <td>-81.878056</td>\n",
       "      <td>NaN</td>\n",
       "      <td>NaN</td>\n",
       "      <td>...</td>\n",
       "      <td>Personal</td>\n",
       "      <td>NaN</td>\n",
       "      <td>3.0</td>\n",
       "      <td>NaN</td>\n",
       "      <td>NaN</td>\n",
       "      <td>NaN</td>\n",
       "      <td>IMC</td>\n",
       "      <td>Cruise</td>\n",
       "      <td>Probable Cause</td>\n",
       "      <td>26-02-2007</td>\n",
       "    </tr>\n",
       "    <tr>\n",
       "      <th>3</th>\n",
       "      <td>20001218X45448</td>\n",
       "      <td>Accident</td>\n",
       "      <td>LAX96LA321</td>\n",
       "      <td>1977-06-19</td>\n",
       "      <td>EUREKA, CA</td>\n",
       "      <td>United States</td>\n",
       "      <td>NaN</td>\n",
       "      <td>NaN</td>\n",
       "      <td>NaN</td>\n",
       "      <td>NaN</td>\n",
       "      <td>...</td>\n",
       "      <td>Personal</td>\n",
       "      <td>NaN</td>\n",
       "      <td>2.0</td>\n",
       "      <td>0.0</td>\n",
       "      <td>0.0</td>\n",
       "      <td>0.0</td>\n",
       "      <td>IMC</td>\n",
       "      <td>Cruise</td>\n",
       "      <td>Probable Cause</td>\n",
       "      <td>12-09-2000</td>\n",
       "    </tr>\n",
       "    <tr>\n",
       "      <th>4</th>\n",
       "      <td>20041105X01764</td>\n",
       "      <td>Accident</td>\n",
       "      <td>CHI79FA064</td>\n",
       "      <td>1979-08-02</td>\n",
       "      <td>Canton, OH</td>\n",
       "      <td>United States</td>\n",
       "      <td>NaN</td>\n",
       "      <td>NaN</td>\n",
       "      <td>NaN</td>\n",
       "      <td>NaN</td>\n",
       "      <td>...</td>\n",
       "      <td>Personal</td>\n",
       "      <td>NaN</td>\n",
       "      <td>1.0</td>\n",
       "      <td>2.0</td>\n",
       "      <td>NaN</td>\n",
       "      <td>0.0</td>\n",
       "      <td>VMC</td>\n",
       "      <td>Approach</td>\n",
       "      <td>Probable Cause</td>\n",
       "      <td>16-04-1980</td>\n",
       "    </tr>\n",
       "  </tbody>\n",
       "</table>\n",
       "<p>5 rows × 31 columns</p>\n",
       "</div>"
      ],
      "text/plain": [
       "         Event.Id Investigation.Type Accident.Number  Event.Date  \\\n",
       "0  20001218X45444           Accident      SEA87LA080  1948-10-24   \n",
       "1  20001218X45447           Accident      LAX94LA336  1962-07-19   \n",
       "2  20061025X01555           Accident      NYC07LA005  1974-08-30   \n",
       "3  20001218X45448           Accident      LAX96LA321  1977-06-19   \n",
       "4  20041105X01764           Accident      CHI79FA064  1979-08-02   \n",
       "\n",
       "          Location        Country   Latitude   Longitude Airport.Code  \\\n",
       "0  MOOSE CREEK, ID  United States        NaN         NaN          NaN   \n",
       "1   BRIDGEPORT, CA  United States        NaN         NaN          NaN   \n",
       "2    Saltville, VA  United States  36.922223  -81.878056          NaN   \n",
       "3       EUREKA, CA  United States        NaN         NaN          NaN   \n",
       "4       Canton, OH  United States        NaN         NaN          NaN   \n",
       "\n",
       "  Airport.Name  ... Purpose.of.flight Air.carrier Total.Fatal.Injuries  \\\n",
       "0          NaN  ...          Personal         NaN                  2.0   \n",
       "1          NaN  ...          Personal         NaN                  4.0   \n",
       "2          NaN  ...          Personal         NaN                  3.0   \n",
       "3          NaN  ...          Personal         NaN                  2.0   \n",
       "4          NaN  ...          Personal         NaN                  1.0   \n",
       "\n",
       "  Total.Serious.Injuries Total.Minor.Injuries Total.Uninjured  \\\n",
       "0                    0.0                  0.0             0.0   \n",
       "1                    0.0                  0.0             0.0   \n",
       "2                    NaN                  NaN             NaN   \n",
       "3                    0.0                  0.0             0.0   \n",
       "4                    2.0                  NaN             0.0   \n",
       "\n",
       "  Weather.Condition  Broad.phase.of.flight   Report.Status Publication.Date  \n",
       "0               UNK                 Cruise  Probable Cause              NaN  \n",
       "1               UNK                Unknown  Probable Cause       19-09-1996  \n",
       "2               IMC                 Cruise  Probable Cause       26-02-2007  \n",
       "3               IMC                 Cruise  Probable Cause       12-09-2000  \n",
       "4               VMC               Approach  Probable Cause       16-04-1980  \n",
       "\n",
       "[5 rows x 31 columns]"
      ]
     },
     "execution_count": 2,
     "metadata": {},
     "output_type": "execute_result"
    }
   ],
   "source": [
    "df=pd.read_csv(r\"C:\\Users\\USER\\Downloads\\archive\\AviationData.csv\", encoding=\"ISO-8859-1\" ,low_memory=False)\n",
    "df.head()"
   ]
  },
  {
   "cell_type": "markdown",
   "id": "0179accd-8d30-4527-93d1-87d9698b785a",
   "metadata": {},
   "source": [
    ".shape:This returns the number of rows and columns in the dataset."
   ]
  },
  {
   "cell_type": "code",
   "execution_count": 3,
   "id": "8e2f3686-91bc-4636-a5bd-43a77b60ccf1",
   "metadata": {},
   "outputs": [
    {
     "data": {
      "text/plain": [
       "(88889, 31)"
      ]
     },
     "execution_count": 3,
     "metadata": {},
     "output_type": "execute_result"
    }
   ],
   "source": [
    "df.shape"
   ]
  },
  {
   "cell_type": "markdown",
   "id": "83ac1936-9ca9-4909-801b-048f937ed2c9",
   "metadata": {},
   "source": [
    "df.info:provides a summary of the DataFrame"
   ]
  },
  {
   "cell_type": "code",
   "execution_count": 4,
   "id": "a14e15de-b97f-4593-aedd-bcd438306f54",
   "metadata": {},
   "outputs": [
    {
     "name": "stdout",
     "output_type": "stream",
     "text": [
      "<class 'pandas.core.frame.DataFrame'>\n",
      "RangeIndex: 88889 entries, 0 to 88888\n",
      "Data columns (total 31 columns):\n",
      " #   Column                  Non-Null Count  Dtype  \n",
      "---  ------                  --------------  -----  \n",
      " 0   Event.Id                88889 non-null  object \n",
      " 1   Investigation.Type      88889 non-null  object \n",
      " 2   Accident.Number         88889 non-null  object \n",
      " 3   Event.Date              88889 non-null  object \n",
      " 4   Location                88837 non-null  object \n",
      " 5   Country                 88663 non-null  object \n",
      " 6   Latitude                34382 non-null  object \n",
      " 7   Longitude               34373 non-null  object \n",
      " 8   Airport.Code            50132 non-null  object \n",
      " 9   Airport.Name            52704 non-null  object \n",
      " 10  Injury.Severity         87889 non-null  object \n",
      " 11  Aircraft.damage         85695 non-null  object \n",
      " 12  Aircraft.Category       32287 non-null  object \n",
      " 13  Registration.Number     87507 non-null  object \n",
      " 14  Make                    88826 non-null  object \n",
      " 15  Model                   88797 non-null  object \n",
      " 16  Amateur.Built           88787 non-null  object \n",
      " 17  Number.of.Engines       82805 non-null  float64\n",
      " 18  Engine.Type             81793 non-null  object \n",
      " 19  FAR.Description         32023 non-null  object \n",
      " 20  Schedule                12582 non-null  object \n",
      " 21  Purpose.of.flight       82697 non-null  object \n",
      " 22  Air.carrier             16648 non-null  object \n",
      " 23  Total.Fatal.Injuries    77488 non-null  float64\n",
      " 24  Total.Serious.Injuries  76379 non-null  float64\n",
      " 25  Total.Minor.Injuries    76956 non-null  float64\n",
      " 26  Total.Uninjured         82977 non-null  float64\n",
      " 27  Weather.Condition       84397 non-null  object \n",
      " 28  Broad.phase.of.flight   61724 non-null  object \n",
      " 29  Report.Status           82505 non-null  object \n",
      " 30  Publication.Date        75118 non-null  object \n",
      "dtypes: float64(5), object(26)\n",
      "memory usage: 21.0+ MB\n"
     ]
    }
   ],
   "source": [
    "df.info()"
   ]
  },
  {
   "cell_type": "markdown",
   "id": "38abb44d-b700-4fe5-994d-fceae09e3b12",
   "metadata": {},
   "source": [
    "df.isna.sum:is used to count the number of missing (NaN) values in each column of a DataFrame."
   ]
  },
  {
   "cell_type": "code",
   "execution_count": 5,
   "id": "cc7d2a85-9124-43dc-b622-27f4f30e8828",
   "metadata": {},
   "outputs": [
    {
     "data": {
      "text/plain": [
       "Event.Id                      0\n",
       "Investigation.Type            0\n",
       "Accident.Number               0\n",
       "Event.Date                    0\n",
       "Location                     52\n",
       "Country                     226\n",
       "Latitude                  54507\n",
       "Longitude                 54516\n",
       "Airport.Code              38757\n",
       "Airport.Name              36185\n",
       "Injury.Severity            1000\n",
       "Aircraft.damage            3194\n",
       "Aircraft.Category         56602\n",
       "Registration.Number        1382\n",
       "Make                         63\n",
       "Model                        92\n",
       "Amateur.Built               102\n",
       "Number.of.Engines          6084\n",
       "Engine.Type                7096\n",
       "FAR.Description           56866\n",
       "Schedule                  76307\n",
       "Purpose.of.flight          6192\n",
       "Air.carrier               72241\n",
       "Total.Fatal.Injuries      11401\n",
       "Total.Serious.Injuries    12510\n",
       "Total.Minor.Injuries      11933\n",
       "Total.Uninjured            5912\n",
       "Weather.Condition          4492\n",
       "Broad.phase.of.flight     27165\n",
       "Report.Status              6384\n",
       "Publication.Date          13771\n",
       "dtype: int64"
      ]
     },
     "execution_count": 5,
     "metadata": {},
     "output_type": "execute_result"
    }
   ],
   "source": [
    "df.isna().sum()"
   ]
  },
  {
   "cell_type": "markdown",
   "id": "312cf7e7-12fb-43d7-a439-c1a7387fb947",
   "metadata": {},
   "source": [
    "after knowing the number of missing values that is when you know what techniques you will use to do data cleaning"
   ]
  },
  {
   "cell_type": "markdown",
   "id": "a9d83893-e0a4-4f50-9bb5-879be72cbd24",
   "metadata": {},
   "source": [
    "df.describe: generates summary statistics for numerical columns in a DataFrame"
   ]
  },
  {
   "cell_type": "code",
   "execution_count": 6,
   "id": "4e5f7a3e-86d0-4a22-9e05-faa9af6a8411",
   "metadata": {},
   "outputs": [
    {
     "data": {
      "text/html": [
       "<div>\n",
       "<style scoped>\n",
       "    .dataframe tbody tr th:only-of-type {\n",
       "        vertical-align: middle;\n",
       "    }\n",
       "\n",
       "    .dataframe tbody tr th {\n",
       "        vertical-align: top;\n",
       "    }\n",
       "\n",
       "    .dataframe thead th {\n",
       "        text-align: right;\n",
       "    }\n",
       "</style>\n",
       "<table border=\"1\" class=\"dataframe\">\n",
       "  <thead>\n",
       "    <tr style=\"text-align: right;\">\n",
       "      <th></th>\n",
       "      <th>Number.of.Engines</th>\n",
       "      <th>Total.Fatal.Injuries</th>\n",
       "      <th>Total.Serious.Injuries</th>\n",
       "      <th>Total.Minor.Injuries</th>\n",
       "      <th>Total.Uninjured</th>\n",
       "    </tr>\n",
       "  </thead>\n",
       "  <tbody>\n",
       "    <tr>\n",
       "      <th>count</th>\n",
       "      <td>82805.000000</td>\n",
       "      <td>77488.000000</td>\n",
       "      <td>76379.000000</td>\n",
       "      <td>76956.000000</td>\n",
       "      <td>82977.000000</td>\n",
       "    </tr>\n",
       "    <tr>\n",
       "      <th>mean</th>\n",
       "      <td>1.146585</td>\n",
       "      <td>0.647855</td>\n",
       "      <td>0.279881</td>\n",
       "      <td>0.357061</td>\n",
       "      <td>5.325440</td>\n",
       "    </tr>\n",
       "    <tr>\n",
       "      <th>std</th>\n",
       "      <td>0.446510</td>\n",
       "      <td>5.485960</td>\n",
       "      <td>1.544084</td>\n",
       "      <td>2.235625</td>\n",
       "      <td>27.913634</td>\n",
       "    </tr>\n",
       "    <tr>\n",
       "      <th>min</th>\n",
       "      <td>0.000000</td>\n",
       "      <td>0.000000</td>\n",
       "      <td>0.000000</td>\n",
       "      <td>0.000000</td>\n",
       "      <td>0.000000</td>\n",
       "    </tr>\n",
       "    <tr>\n",
       "      <th>25%</th>\n",
       "      <td>1.000000</td>\n",
       "      <td>0.000000</td>\n",
       "      <td>0.000000</td>\n",
       "      <td>0.000000</td>\n",
       "      <td>0.000000</td>\n",
       "    </tr>\n",
       "    <tr>\n",
       "      <th>50%</th>\n",
       "      <td>1.000000</td>\n",
       "      <td>0.000000</td>\n",
       "      <td>0.000000</td>\n",
       "      <td>0.000000</td>\n",
       "      <td>1.000000</td>\n",
       "    </tr>\n",
       "    <tr>\n",
       "      <th>75%</th>\n",
       "      <td>1.000000</td>\n",
       "      <td>0.000000</td>\n",
       "      <td>0.000000</td>\n",
       "      <td>0.000000</td>\n",
       "      <td>2.000000</td>\n",
       "    </tr>\n",
       "    <tr>\n",
       "      <th>max</th>\n",
       "      <td>8.000000</td>\n",
       "      <td>349.000000</td>\n",
       "      <td>161.000000</td>\n",
       "      <td>380.000000</td>\n",
       "      <td>699.000000</td>\n",
       "    </tr>\n",
       "  </tbody>\n",
       "</table>\n",
       "</div>"
      ],
      "text/plain": [
       "       Number.of.Engines  Total.Fatal.Injuries  Total.Serious.Injuries  \\\n",
       "count       82805.000000          77488.000000            76379.000000   \n",
       "mean            1.146585              0.647855                0.279881   \n",
       "std             0.446510              5.485960                1.544084   \n",
       "min             0.000000              0.000000                0.000000   \n",
       "25%             1.000000              0.000000                0.000000   \n",
       "50%             1.000000              0.000000                0.000000   \n",
       "75%             1.000000              0.000000                0.000000   \n",
       "max             8.000000            349.000000              161.000000   \n",
       "\n",
       "       Total.Minor.Injuries  Total.Uninjured  \n",
       "count          76956.000000     82977.000000  \n",
       "mean               0.357061         5.325440  \n",
       "std                2.235625        27.913634  \n",
       "min                0.000000         0.000000  \n",
       "25%                0.000000         0.000000  \n",
       "50%                0.000000         1.000000  \n",
       "75%                0.000000         2.000000  \n",
       "max              380.000000       699.000000  "
      ]
     },
     "execution_count": 6,
     "metadata": {},
     "output_type": "execute_result"
    }
   ],
   "source": [
    "df.describe()"
   ]
  },
  {
   "cell_type": "markdown",
   "id": "c550fdfd-5b46-4a8b-bbc8-95a65f29dbc3",
   "metadata": {},
   "source": [
    "df.duplicated:checks for duplicate rows in a DataFrame."
   ]
  },
  {
   "cell_type": "code",
   "execution_count": 7,
   "id": "59e71798-6f53-4131-983e-163d409c8f73",
   "metadata": {},
   "outputs": [
    {
     "data": {
      "text/plain": [
       "0        False\n",
       "1        False\n",
       "2        False\n",
       "3        False\n",
       "4        False\n",
       "         ...  \n",
       "88884    False\n",
       "88885    False\n",
       "88886    False\n",
       "88887    False\n",
       "88888    False\n",
       "Length: 88889, dtype: bool"
      ]
     },
     "execution_count": 7,
     "metadata": {},
     "output_type": "execute_result"
    }
   ],
   "source": [
    "df.duplicated()"
   ]
  },
  {
   "cell_type": "code",
   "execution_count": 8,
   "id": "4fafc114-bc84-4b52-b454-8f57b038cf4a",
   "metadata": {},
   "outputs": [
    {
     "data": {
      "text/plain": [
       "np.int64(0)"
      ]
     },
     "execution_count": 8,
     "metadata": {},
     "output_type": "execute_result"
    }
   ],
   "source": [
    "df.duplicated().sum()"
   ]
  },
  {
   "cell_type": "markdown",
   "id": "639411a0-8f4a-44b2-9400-ae22c1a186c2",
   "metadata": {},
   "source": [
    "np.int64(0):It means there are no duplicate rows in the DataFrame."
   ]
  },
  {
   "cell_type": "markdown",
   "id": "9bddb57c-fa17-42cd-ba49-a983cd196787",
   "metadata": {},
   "source": [
    "DATA CLEANING"
   ]
  },
  {
   "cell_type": "markdown",
   "id": "64048869-6eec-4ab2-8c98-633d9c351fde",
   "metadata": {},
   "source": [
    "Dropping columns with too many missing values"
   ]
  },
  {
   "cell_type": "code",
   "execution_count": 9,
   "id": "7adbd685-705f-49d5-a2c0-3faf1e26f2f8",
   "metadata": {},
   "outputs": [],
   "source": [
    "df = df.drop(columns=[\"FAR.Description\", \"Schedule\", \"Air.carrier\"])\n"
   ]
  },
  {
   "cell_type": "code",
   "execution_count": 10,
   "id": "c34daa03-cf4b-4e6e-92eb-36b306922235",
   "metadata": {},
   "outputs": [],
   "source": [
    "df['Location'] = df['Location'].replace('Unknown,', 'Unknown') #Replace 'Unknown,' with 'Unknown' in the Location column.\n",
    "df['Airport.Name'] = df['Airport.Name'].replace(['UNK', 'UNK/NA', 'UNKNOWN', 'UNNAMED'], 'Unknown') #Replace 'Unknown' in the Airport Name column\n",
    "df['Injury.Severity'] = df['Injury.Severity'].replace('Unavailable', 'Unknown') #Replace 'Unavailable' with 'Unknown' in the Injury Severity column.\n",
    "df['Engine.Type'] = df['Engine.Type'].replace('UNK', 'Unknown') #Replace 'UNK' in Engine type column with 'Unknown'.\n",
    "df['Weather.Condition'] = df['Weather.Condition'].replace('UNK', 'Unknown')  #Replace 'UNK' in Weather column with 'Unknown'.\n"
   ]
  },
  {
   "cell_type": "markdown",
   "id": "68bca8cd-ea9b-46cf-be87-47235254d2c2",
   "metadata": {},
   "source": [
    "Fill missing values"
   ]
  },
  {
   "cell_type": "code",
   "execution_count": 11,
   "id": "c377c6f6-f377-40d6-9cd0-145ce8765f80",
   "metadata": {},
   "outputs": [],
   "source": [
    "df[\"Total.Fatal.Injuries\"] = df[\"Total.Fatal.Injuries\"].fillna(df[\"Total.Fatal.Injuries\"].median())\n",
    "df[\"Total.Serious.Injuries\"] = df[\"Total.Serious.Injuries\"].fillna(df[\"Total.Serious.Injuries\"].median())\n",
    "df[\"Total.Minor.Injuries\"] = df[\"Total.Minor.Injuries\"].fillna(df[\"Total.Minor.Injuries\"].median())\n",
    "df[\"Total.Uninjured\"] = df[\"Total.Uninjured\"].fillna(df[\"Total.Uninjured\"].median())\n"
   ]
  },
  {
   "cell_type": "code",
   "execution_count": 12,
   "id": "a1aac10d-3ef8-47a7-8b3b-a8fcf028c997",
   "metadata": {},
   "outputs": [],
   "source": [
    "df[\"Airport.Code\"] = df[\"Airport.Code\"].fillna(\"Missing\")\n",
    "df[\"Airport.Name\"] = df[\"Airport.Name\"].fillna(\"Missing\")\n"
   ]
  },
  {
   "cell_type": "code",
   "execution_count": 13,
   "id": "15c541c8-85a6-4fdc-869b-2b6ecbe52c27",
   "metadata": {},
   "outputs": [
    {
     "data": {
      "text/plain": [
       "Event.Id                      0\n",
       "Investigation.Type            0\n",
       "Accident.Number               0\n",
       "Event.Date                    0\n",
       "Location                     52\n",
       "Country                     226\n",
       "Latitude                  54507\n",
       "Longitude                 54516\n",
       "Airport.Code                  0\n",
       "Airport.Name                  0\n",
       "Injury.Severity            1000\n",
       "Aircraft.damage            3194\n",
       "Aircraft.Category         56602\n",
       "Registration.Number        1382\n",
       "Make                         63\n",
       "Model                        92\n",
       "Amateur.Built               102\n",
       "Number.of.Engines          6084\n",
       "Engine.Type                7096\n",
       "Purpose.of.flight          6192\n",
       "Total.Fatal.Injuries          0\n",
       "Total.Serious.Injuries        0\n",
       "Total.Minor.Injuries          0\n",
       "Total.Uninjured               0\n",
       "Weather.Condition          4492\n",
       "Broad.phase.of.flight     27165\n",
       "Report.Status              6384\n",
       "Publication.Date          13771\n",
       "dtype: int64"
      ]
     },
     "execution_count": 13,
     "metadata": {},
     "output_type": "execute_result"
    }
   ],
   "source": [
    "df.isna().sum()##after dropping columns and rows just confirming whats remaining"
   ]
  },
  {
   "cell_type": "code",
   "execution_count": 14,
   "id": "1540c94a-3d53-4bcf-9e32-8b6c46271839",
   "metadata": {},
   "outputs": [],
   "source": [
    "df[\"Location\"] = df[\"Location\"].fillna(\"Missing\")\n",
    "df[\"Country\"] = df[\"Country\"].fillna(\"Missing\")\n",
    "df[\"Injury.Severity\"] = df[\"Injury.Severity\"].fillna(\"Missing\")\n",
    "df[\"Aircraft.damage\"] = df[\"Aircraft.damage\"].fillna(\"Missing\")\n",
    "df[\"Engine.Type\"] = df[\"Engine.Type\"].fillna(\"Missing\")\n",
    "df[\"Purpose.of.flight\"] = df[\"Purpose.of.flight\"].fillna(\"Missing\")\n",
    "df[\"Report.Status\"] = df[\"Report.Status\"].fillna(\"Missing\")\n",
    "df[\"Broad.phase.of.flight\"] = df[\"Broad.phase.of.flight\"].fillna(\"Missing\")\n"
   ]
  },
  {
   "cell_type": "code",
   "execution_count": 15,
   "id": "fe4eb34c-d45f-47fb-8092-745e1f47a396",
   "metadata": {},
   "outputs": [],
   "source": [
    "df.dropna(subset =['Latitude'],inplace=True)\n",
    "df.dropna(subset =['Longitude'],inplace=True)\n",
    "df.dropna(subset=['Publication.Date'],inplace=True)\n",
    "          "
   ]
  },
  {
   "cell_type": "code",
   "execution_count": 16,
   "id": "a2e4b85c-4371-4e91-aad1-e870fe6db07c",
   "metadata": {},
   "outputs": [],
   "source": [
    "df[\"Aircraft.Category\"] = df[\"Aircraft.Category\"].fillna(\"Missing\")\n",
    "df[\"Registration.Number\"] = df[\"Registration.Number\"].fillna(\"Missing\")\n",
    "df[\"Make\"] = df[\"Make\"].fillna(\"Missing\")\n",
    "df[\"Model\"] = df[\"Model\"].fillna(\"Missing\")\n",
    "df[\"Amateur.Built\"] = df[\"Amateur.Built\"].fillna(\"Missing\")\n",
    "df[\"Number.of.Engines\"] = df[\"Number.of.Engines\"].fillna(df[\"Number.of.Engines\"].median())\n",
    "df[\"Weather.Condition\"] = df[\"Weather.Condition\"].fillna(\"Missing\")\n"
   ]
  },
  {
   "cell_type": "code",
   "execution_count": 17,
   "id": "52e69a8f-1a1e-48ae-8203-8ecf854fc686",
   "metadata": {},
   "outputs": [
    {
     "data": {
      "text/plain": [
       "Event.Id                  0\n",
       "Investigation.Type        0\n",
       "Accident.Number           0\n",
       "Event.Date                0\n",
       "Location                  0\n",
       "Country                   0\n",
       "Latitude                  0\n",
       "Longitude                 0\n",
       "Airport.Code              0\n",
       "Airport.Name              0\n",
       "Injury.Severity           0\n",
       "Aircraft.damage           0\n",
       "Aircraft.Category         0\n",
       "Registration.Number       0\n",
       "Make                      0\n",
       "Model                     0\n",
       "Amateur.Built             0\n",
       "Number.of.Engines         0\n",
       "Engine.Type               0\n",
       "Purpose.of.flight         0\n",
       "Total.Fatal.Injuries      0\n",
       "Total.Serious.Injuries    0\n",
       "Total.Minor.Injuries      0\n",
       "Total.Uninjured           0\n",
       "Weather.Condition         0\n",
       "Broad.phase.of.flight     0\n",
       "Report.Status             0\n",
       "Publication.Date          0\n",
       "dtype: int64"
      ]
     },
     "execution_count": 17,
     "metadata": {},
     "output_type": "execute_result"
    }
   ],
   "source": [
    "df.isna().sum()##the data is now cleaned using .fill and .drop in different rows and columns"
   ]
  },
  {
   "cell_type": "code",
   "execution_count": 18,
   "id": "8250474d-6132-4fba-b907-0858e307be9d",
   "metadata": {},
   "outputs": [
    {
     "name": "stdout",
     "output_type": "stream",
     "text": [
      "<class 'pandas.core.frame.DataFrame'>\n",
      "Index: 33762 entries, 2 to 88886\n",
      "Data columns (total 28 columns):\n",
      " #   Column                  Non-Null Count  Dtype  \n",
      "---  ------                  --------------  -----  \n",
      " 0   Event.Id                33762 non-null  object \n",
      " 1   Investigation.Type      33762 non-null  object \n",
      " 2   Accident.Number         33762 non-null  object \n",
      " 3   Event.Date              33762 non-null  object \n",
      " 4   Location                33762 non-null  object \n",
      " 5   Country                 33762 non-null  object \n",
      " 6   Latitude                33762 non-null  object \n",
      " 7   Longitude               33762 non-null  object \n",
      " 8   Airport.Code            33762 non-null  object \n",
      " 9   Airport.Name            33762 non-null  object \n",
      " 10  Injury.Severity         33762 non-null  object \n",
      " 11  Aircraft.damage         33762 non-null  object \n",
      " 12  Aircraft.Category       33762 non-null  object \n",
      " 13  Registration.Number     33762 non-null  object \n",
      " 14  Make                    33762 non-null  object \n",
      " 15  Model                   33762 non-null  object \n",
      " 16  Amateur.Built           33762 non-null  object \n",
      " 17  Number.of.Engines       33762 non-null  float64\n",
      " 18  Engine.Type             33762 non-null  object \n",
      " 19  Purpose.of.flight       33762 non-null  object \n",
      " 20  Total.Fatal.Injuries    33762 non-null  float64\n",
      " 21  Total.Serious.Injuries  33762 non-null  float64\n",
      " 22  Total.Minor.Injuries    33762 non-null  float64\n",
      " 23  Total.Uninjured         33762 non-null  float64\n",
      " 24  Weather.Condition       33762 non-null  object \n",
      " 25  Broad.phase.of.flight   33762 non-null  object \n",
      " 26  Report.Status           33762 non-null  object \n",
      " 27  Publication.Date        33762 non-null  object \n",
      "dtypes: float64(5), object(23)\n",
      "memory usage: 7.5+ MB\n"
     ]
    }
   ],
   "source": [
    "df.info()##the final output after cleaning the data"
   ]
  },
  {
   "cell_type": "code",
   "execution_count": 19,
   "id": "6292acb8-3138-44bb-a088-143cd4c4c294",
   "metadata": {},
   "outputs": [
    {
     "name": "stdout",
     "output_type": "stream",
     "text": [
      "Index(['Event.Id', 'Investigation.Type', 'Accident.Number', 'Event.Date',\n",
      "       'Location', 'Country', 'Latitude', 'Longitude', 'Airport.Code',\n",
      "       'Airport.Name', 'Injury.Severity', 'Aircraft.damage',\n",
      "       'Aircraft.Category', 'Registration.Number', 'Make', 'Model',\n",
      "       'Amateur.Built', 'Number.of.Engines', 'Engine.Type',\n",
      "       'Purpose.of.flight', 'Total.Fatal.Injuries', 'Total.Serious.Injuries',\n",
      "       'Total.Minor.Injuries', 'Total.Uninjured', 'Weather.Condition',\n",
      "       'Broad.phase.of.flight', 'Report.Status', 'Publication.Date'],\n",
      "      dtype='object')\n"
     ]
    }
   ],
   "source": [
    "print(df.columns)##total number of columns in your dataframe\n"
   ]
  },
  {
   "cell_type": "code",
   "execution_count": 20,
   "id": "46fbd896-fc6a-49d1-911d-b889405837d6",
   "metadata": {},
   "outputs": [
    {
     "data": {
      "text/plain": [
       "(33762, 28)"
      ]
     },
     "execution_count": 20,
     "metadata": {},
     "output_type": "execute_result"
    }
   ],
   "source": [
    "df.shape ##shows the rows and columns reamining after data cleaning\n"
   ]
  },
  {
   "cell_type": "markdown",
   "id": "0fc24d8d-e5d4-4050-87b3-d780833f1b1e",
   "metadata": {},
   "source": [
    "This shows that we have 28 columns remaining after we dropped 3columns and multiple rows to make it easier for us to do visualization in our data"
   ]
  },
  {
   "cell_type": "code",
   "execution_count": 21,
   "id": "0d4513ff-ace3-4c27-943a-fb172b13b139",
   "metadata": {},
   "outputs": [
    {
     "data": {
      "text/html": [
       "<div>\n",
       "<style scoped>\n",
       "    .dataframe tbody tr th:only-of-type {\n",
       "        vertical-align: middle;\n",
       "    }\n",
       "\n",
       "    .dataframe tbody tr th {\n",
       "        vertical-align: top;\n",
       "    }\n",
       "\n",
       "    .dataframe thead th {\n",
       "        text-align: right;\n",
       "    }\n",
       "</style>\n",
       "<table border=\"1\" class=\"dataframe\">\n",
       "  <thead>\n",
       "    <tr style=\"text-align: right;\">\n",
       "      <th></th>\n",
       "      <th>Event.Id</th>\n",
       "      <th>Investigation.Type</th>\n",
       "      <th>Accident.Number</th>\n",
       "      <th>Event.Date</th>\n",
       "      <th>Location</th>\n",
       "      <th>Country</th>\n",
       "      <th>Latitude</th>\n",
       "      <th>Longitude</th>\n",
       "      <th>Airport.Code</th>\n",
       "      <th>Airport.Name</th>\n",
       "      <th>...</th>\n",
       "      <th>Engine.Type</th>\n",
       "      <th>Purpose.of.flight</th>\n",
       "      <th>Total.Fatal.Injuries</th>\n",
       "      <th>Total.Serious.Injuries</th>\n",
       "      <th>Total.Minor.Injuries</th>\n",
       "      <th>Total.Uninjured</th>\n",
       "      <th>Weather.Condition</th>\n",
       "      <th>Broad.phase.of.flight</th>\n",
       "      <th>Report.Status</th>\n",
       "      <th>Publication.Date</th>\n",
       "    </tr>\n",
       "  </thead>\n",
       "  <tbody>\n",
       "    <tr>\n",
       "      <th>2</th>\n",
       "      <td>20061025X01555</td>\n",
       "      <td>Accident</td>\n",
       "      <td>NYC07LA005</td>\n",
       "      <td>1974-08-30</td>\n",
       "      <td>Saltville, VA</td>\n",
       "      <td>United States</td>\n",
       "      <td>36.922223</td>\n",
       "      <td>-81.878056</td>\n",
       "      <td>Missing</td>\n",
       "      <td>Missing</td>\n",
       "      <td>...</td>\n",
       "      <td>Reciprocating</td>\n",
       "      <td>Personal</td>\n",
       "      <td>3.0</td>\n",
       "      <td>0.0</td>\n",
       "      <td>0.0</td>\n",
       "      <td>1.0</td>\n",
       "      <td>IMC</td>\n",
       "      <td>Cruise</td>\n",
       "      <td>Probable Cause</td>\n",
       "      <td>26-02-2007</td>\n",
       "    </tr>\n",
       "    <tr>\n",
       "      <th>5</th>\n",
       "      <td>20170710X52551</td>\n",
       "      <td>Accident</td>\n",
       "      <td>NYC79AA106</td>\n",
       "      <td>1979-09-17</td>\n",
       "      <td>BOSTON, MA</td>\n",
       "      <td>United States</td>\n",
       "      <td>42.445277</td>\n",
       "      <td>-70.758333</td>\n",
       "      <td>Missing</td>\n",
       "      <td>Missing</td>\n",
       "      <td>...</td>\n",
       "      <td>Turbo Fan</td>\n",
       "      <td>Missing</td>\n",
       "      <td>0.0</td>\n",
       "      <td>0.0</td>\n",
       "      <td>1.0</td>\n",
       "      <td>44.0</td>\n",
       "      <td>VMC</td>\n",
       "      <td>Climb</td>\n",
       "      <td>Probable Cause</td>\n",
       "      <td>19-09-2017</td>\n",
       "    </tr>\n",
       "    <tr>\n",
       "      <th>593</th>\n",
       "      <td>20080417X00504</td>\n",
       "      <td>Accident</td>\n",
       "      <td>MIA08CA076</td>\n",
       "      <td>1982-03-16</td>\n",
       "      <td>MOBILE, AL</td>\n",
       "      <td>United States</td>\n",
       "      <td>30.757778</td>\n",
       "      <td>-88.355555</td>\n",
       "      <td>MOB</td>\n",
       "      <td>MOBILE REGIONAL</td>\n",
       "      <td>...</td>\n",
       "      <td>Reciprocating</td>\n",
       "      <td>Unknown</td>\n",
       "      <td>1.0</td>\n",
       "      <td>0.0</td>\n",
       "      <td>0.0</td>\n",
       "      <td>1.0</td>\n",
       "      <td>IMC</td>\n",
       "      <td>Landing</td>\n",
       "      <td>Probable Cause</td>\n",
       "      <td>30-04-2008</td>\n",
       "    </tr>\n",
       "    <tr>\n",
       "      <th>3654</th>\n",
       "      <td>20051208X01953</td>\n",
       "      <td>Accident</td>\n",
       "      <td>SEA83LA209</td>\n",
       "      <td>1983-01-08</td>\n",
       "      <td>Goldendale, WA</td>\n",
       "      <td>United States</td>\n",
       "      <td>46.041111</td>\n",
       "      <td>-120.849722</td>\n",
       "      <td>Missing</td>\n",
       "      <td>Missing</td>\n",
       "      <td>...</td>\n",
       "      <td>Reciprocating</td>\n",
       "      <td>Personal</td>\n",
       "      <td>2.0</td>\n",
       "      <td>0.0</td>\n",
       "      <td>0.0</td>\n",
       "      <td>1.0</td>\n",
       "      <td>VMC</td>\n",
       "      <td>Cruise</td>\n",
       "      <td>Probable Cause</td>\n",
       "      <td>28-03-2006</td>\n",
       "    </tr>\n",
       "    <tr>\n",
       "      <th>6202</th>\n",
       "      <td>20020904X01525</td>\n",
       "      <td>Accident</td>\n",
       "      <td>SEA83FA208</td>\n",
       "      <td>1983-09-09</td>\n",
       "      <td>Kalispell, MT</td>\n",
       "      <td>United States</td>\n",
       "      <td>48.12</td>\n",
       "      <td>-113.8875</td>\n",
       "      <td>Missing</td>\n",
       "      <td>Missing</td>\n",
       "      <td>...</td>\n",
       "      <td>Reciprocating</td>\n",
       "      <td>Personal</td>\n",
       "      <td>2.0</td>\n",
       "      <td>0.0</td>\n",
       "      <td>0.0</td>\n",
       "      <td>1.0</td>\n",
       "      <td>IMC</td>\n",
       "      <td>Cruise</td>\n",
       "      <td>Probable Cause</td>\n",
       "      <td>23-07-2003</td>\n",
       "    </tr>\n",
       "  </tbody>\n",
       "</table>\n",
       "<p>5 rows × 28 columns</p>\n",
       "</div>"
      ],
      "text/plain": [
       "            Event.Id Investigation.Type Accident.Number  Event.Date  \\\n",
       "2     20061025X01555           Accident      NYC07LA005  1974-08-30   \n",
       "5     20170710X52551           Accident      NYC79AA106  1979-09-17   \n",
       "593   20080417X00504           Accident      MIA08CA076  1982-03-16   \n",
       "3654  20051208X01953           Accident      SEA83LA209  1983-01-08   \n",
       "6202  20020904X01525           Accident      SEA83FA208  1983-09-09   \n",
       "\n",
       "            Location        Country   Latitude    Longitude Airport.Code  \\\n",
       "2      Saltville, VA  United States  36.922223   -81.878056      Missing   \n",
       "5         BOSTON, MA  United States  42.445277   -70.758333      Missing   \n",
       "593       MOBILE, AL  United States  30.757778   -88.355555          MOB   \n",
       "3654  Goldendale, WA  United States  46.041111  -120.849722      Missing   \n",
       "6202   Kalispell, MT  United States      48.12    -113.8875      Missing   \n",
       "\n",
       "         Airport.Name  ...    Engine.Type Purpose.of.flight  \\\n",
       "2             Missing  ...  Reciprocating          Personal   \n",
       "5             Missing  ...      Turbo Fan           Missing   \n",
       "593   MOBILE REGIONAL  ...  Reciprocating           Unknown   \n",
       "3654          Missing  ...  Reciprocating          Personal   \n",
       "6202          Missing  ...  Reciprocating          Personal   \n",
       "\n",
       "     Total.Fatal.Injuries Total.Serious.Injuries Total.Minor.Injuries  \\\n",
       "2                     3.0                    0.0                  0.0   \n",
       "5                     0.0                    0.0                  1.0   \n",
       "593                   1.0                    0.0                  0.0   \n",
       "3654                  2.0                    0.0                  0.0   \n",
       "6202                  2.0                    0.0                  0.0   \n",
       "\n",
       "     Total.Uninjured Weather.Condition  Broad.phase.of.flight   Report.Status  \\\n",
       "2                1.0               IMC                 Cruise  Probable Cause   \n",
       "5               44.0               VMC                  Climb  Probable Cause   \n",
       "593              1.0               IMC                Landing  Probable Cause   \n",
       "3654             1.0               VMC                 Cruise  Probable Cause   \n",
       "6202             1.0               IMC                 Cruise  Probable Cause   \n",
       "\n",
       "     Publication.Date  \n",
       "2          26-02-2007  \n",
       "5          19-09-2017  \n",
       "593        30-04-2008  \n",
       "3654       28-03-2006  \n",
       "6202       23-07-2003  \n",
       "\n",
       "[5 rows x 28 columns]"
      ]
     },
     "execution_count": 21,
     "metadata": {},
     "output_type": "execute_result"
    }
   ],
   "source": [
    "df.head()"
   ]
  },
  {
   "cell_type": "code",
   "execution_count": 22,
   "id": "9ff9713c-fc1b-4c59-81c4-13715d84f9fe",
   "metadata": {},
   "outputs": [],
   "source": [
    "df.to_csv(\"cleaned_data2.csv\", index=False)#saving your cleaned data so that you can be able to use it for visualizations eg in tableau.\n"
   ]
  },
  {
   "cell_type": "markdown",
   "id": "9b546825-ffe6-484d-a399-d5a00088d12a",
   "metadata": {},
   "source": [
    "AGGREGATION"
   ]
  },
  {
   "cell_type": "code",
   "execution_count": 23,
   "id": "d1bda656-4a3f-4e53-9ea0-dc4b34d2beef",
   "metadata": {},
   "outputs": [
    {
     "data": {
      "text/plain": [
       "Location\n",
       ",                       1.0\n",
       ", AO                    2.0\n",
       "ABERDEEN, SD            0.0\n",
       "ABILENE, KS             0.0\n",
       "ABILENE, TX             0.0\n",
       "                       ... \n",
       "Zurich, Eswatini        2.0\n",
       "Zurich, Switzerland     0.0\n",
       "Zuzenhausen, Germany    1.0\n",
       "Zwingle, IA             0.0\n",
       "helena, MT              0.0\n",
       "Name: Total.Fatal.Injuries, Length: 14196, dtype: float64"
      ]
     },
     "execution_count": 23,
     "metadata": {},
     "output_type": "execute_result"
    }
   ],
   "source": [
    "df.groupby(\"Location\")[\"Total.Fatal.Injuries\"].sum()"
   ]
  },
  {
   "cell_type": "markdown",
   "id": "3426ba3c-c1b4-4e28-bb4e-250ba17f0a98",
   "metadata": {},
   "source": [
    "With this by using groupby you can compare the location against total fatal injuries"
   ]
  },
  {
   "cell_type": "code",
   "execution_count": 24,
   "id": "23bcce82-997f-4316-a6f8-0eda10f52cba",
   "metadata": {},
   "outputs": [
    {
     "data": {
      "text/plain": [
       "Airport.Name\n",
       "(Pvt) Gibbons Flying Service    0.0\n",
       "(private)                       1.0\n",
       "---                             0.0\n",
       "12E Airstrip                    1.0\n",
       "29 Palms Airport                0.0\n",
       "                               ... \n",
       "private airstrip                2.0\n",
       "private dirt airstrip           0.0\n",
       "private grass strip             0.0\n",
       "shiocton                        1.0\n",
       "Évora Airport                   0.0\n",
       "Name: Total.Minor.Injuries, Length: 12198, dtype: float64"
      ]
     },
     "execution_count": 24,
     "metadata": {},
     "output_type": "execute_result"
    }
   ],
   "source": [
    "df.groupby(\"Airport.Name\")[\"Total.Minor.Injuries\"].sum()"
   ]
  },
  {
   "cell_type": "markdown",
   "id": "45c748e0-c79a-4538-9501-d989e41878a0",
   "metadata": {},
   "source": [
    "With this you can be able to see the airport name and the total injuries the aiport has had"
   ]
  },
  {
   "cell_type": "markdown",
   "id": "e7ef1ee7-495a-442b-8403-a3f412f2f515",
   "metadata": {},
   "source": [
    "VISUALIZATION"
   ]
  },
  {
   "cell_type": "code",
   "execution_count": 25,
   "id": "8f0fb388-d42e-4b1c-982b-1e767fbf30a0",
   "metadata": {},
   "outputs": [],
   "source": [
    "import matplotlib.pyplot as plt"
   ]
  },
  {
   "cell_type": "markdown",
   "id": "63d8e9ce-dd54-41d6-baa2-9379b984ed1a",
   "metadata": {},
   "source": [
    "Accident Severity by Aircraft Model (Stacked Bar Chart)"
   ]
  },
  {
   "cell_type": "code",
   "execution_count": 26,
   "id": "a8aa5e64-0aac-4081-99ef-48032143c937",
   "metadata": {},
   "outputs": [
    {
     "data": {
      "image/png": "[encoded data removed]",
      "text/plain": [
       "<Figure size 1200x600 with 1 Axes>"
      ]
     },
     "metadata": {},
     "output_type": "display_data"
    }
   ],
   "source": [
    "import matplotlib.pyplot as plt\n",
    "\n",
    "plt.figure(figsize=(12, 6))\n",
    "df.groupby(\"Model\")[\"Total.Fatal.Injuries\"].sum().nlargest(10).plot(kind=\"bar\", color=\"red\")\n",
    "plt.title(\"Total Fatal Injuries by Aircraft Model\")\n",
    "plt.xlabel(\"Aircraft Model\")\n",
    "plt.ylabel(\"Fatal Injuries Count\")\n",
    "plt.xticks(rotation=45)\n",
    "\n",
    "# Save the figure before displaying it\n",
    "plt.savefig(\"fatal_injuries_by_aircraft_model.png\", dpi=300, bbox_inches='tight')\n",
    "# Display the plot\n",
    "plt.show()\n",
    "\n"
   ]
  },
  {
   "cell_type": "markdown",
   "id": "f2078213-4bd0-4dda-ad30-ee3a48cdff2b",
   "metadata": {},
   "source": [
    "Accidents by Engine Type (Bar Chart)\n"
   ]
  },
  {
   "cell_type": "code",
   "execution_count": 27,
   "id": "3a4da7bc-9c9a-4ee3-93ca-be17af445c36",
   "metadata": {},
   "outputs": [
    {
     "data": {
      "image/png": "[encoded data removed]",
      "text/plain": [
       "<Figure size 800x500 with 1 Axes>"
      ]
     },
     "metadata": {},
     "output_type": "display_data"
    }
   ],
   "source": [
    "plt.figure(figsize=(8, 5))\n",
    "df.groupby(\"Engine.Type\")[\"Total.Fatal.Injuries\"].sum().nlargest(10).plot(kind=\"bar\", color=\"blue\")\n",
    "plt.title(\"Total fatal injuries against the engine types\")\n",
    "plt.xlabel(\"Engine.Type\")\n",
    "plt.ylabel(\"Total.Fatal.Injuries\")\n",
    "plt.xticks(rotation=45)\n",
    "plt.savefig(\"accidents_by_engine_type_model.png\", dpi=300, bbox_inches='tight')\n",
    "plt.show()\n"
   ]
  },
  {
   "cell_type": "markdown",
   "id": "b879bcd5-6aee-40ca-8ffc-3b8468d95a03",
   "metadata": {},
   "source": [
    "Accidents by Purpose of Flight (Bar Chart)"
   ]
  },
  {
   "cell_type": "code",
   "execution_count": 28,
   "id": "667df4dc-d4b3-4aac-ab62-5292590d5d34",
   "metadata": {},
   "outputs": [
    {
     "data": {
      "image/png": "[encoded data removed]",
      "text/plain": [
       "<Figure size 800x500 with 1 Axes>"
      ]
     },
     "metadata": {},
     "output_type": "display_data"
    }
   ],
   "source": [
    "plt.figure(figsize=(8, 5))\n",
    "df.groupby(\"Purpose.of.flight\")[\"Total.Fatal.Injuries\"].sum().nlargest(10).plot(kind=\"bar\", color=\"purple\")\n",
    "plt.title(\"Total fatal injuries against purpose of flight\")\n",
    "plt.xlabel(\"Purpose.of.flight\")\n",
    "plt.ylabel(\"Total.Fatal.Injuries\")\n",
    "plt.xticks(rotation=45)\n",
    "plt.savefig(\"accidents_by_engine_type_model.png\", dpi=300, bbox_inches='tight')\n",
    "plt.show()\n"
   ]
  },
  {
   "cell_type": "markdown",
   "id": "8caeda38-43e2-46bc-9f48-ebb384fcdfa1",
   "metadata": {},
   "source": [
    "Accidents by Flight Phase (Bar Chart)"
   ]
  },
  {
   "cell_type": "code",
   "execution_count": 96,
   "id": "d88febec-5224-4fc3-bb07-07fa51599d34",
   "metadata": {},
   "outputs": [
    {
     "data": {
      "image/png": "[encoded data removed]",
      "text/plain": [
       "<Figure size 800x500 with 1 Axes>"
      ]
     },
     "metadata": {},
     "output_type": "display_data"
    }
   ],
   "source": [
    "plt.figure(figsize=(8, 5))\n",
    "df.groupby(\"Weather.Condition\")[\"Total.Fatal.Injuries\"].sum().nlargest(10).plot(kind=\"bar\", color=\"black\")\n",
    "plt.title(\"Accidents by weather condition\")\n",
    "plt.xlabel(\"Weather.Condition\")\n",
    "plt.ylabel(\"Total.Fatal.Injuries\")\n",
    "plt.show()\n"
   ]
  },
  {
   "cell_type": "code",
   "execution_count": 97,
   "id": "ea707e8c-a914-46e5-94c6-a7fb950e33f1",
   "metadata": {},
   "outputs": [
    {
     "data": {
      "image/png": "[encoded data removed]",
      "text/plain": [
       "<Figure size 800x500 with 1 Axes>"
      ]
     },
     "metadata": {},
     "output_type": "display_data"
    }
   ],
   "source": [
    "plt.figure(figsize=(8, 5))\n",
    "df[\"Engine.Type\"].value_counts().nlargest(10).plot(kind=\"bar\", color=\"green\")\n",
    "plt.title(\"Engine Types\")\n",
    "plt.xlabel(\"Engine Type\")\n",
    "plt.ylabel(\"Frequency\")\n",
    "plt.show()"
   ]
  },
  {
   "cell_type": "code",
   "execution_count": null,
   "id": "6118385c-b288-457c-a22f-75c02c3bb830",
   "metadata": {},
   "outputs": [],
   "source": []
  }
 ],
 "metadata": {
  "kernelspec": {
   "display_name": "Python (flatiron-env)",
   "language": "python",
   "name": "flatiron-env"
  },
  "language_info": {
   "codemirror_mode": {
    "name": "ipython",
    "version": 3
   },
   "file_extension": ".py",
   "mimetype": "text/x-python",
   "name": "python",
   "nbconvert_exporter": "python",
   "pygments_lexer": "ipython3",
   "version": "3.13.2"
  }
 },
 "nbformat": 4,
 "nbformat_minor": 5
}
